{
 "cells": [
  {
   "cell_type": "code",
   "execution_count": 28,
   "id": "4f7bf029",
   "metadata": {},
   "outputs": [],
   "source": [
    "import json\n",
    "import urllib.request"
   ]
  },
  {
   "cell_type": "code",
   "execution_count": 29,
   "id": "cee44a1b",
   "metadata": {},
   "outputs": [],
   "source": [
    "def get_prediction(x):\n",
    "  headline, short_description = x\n",
    "\n",
    "  body = dict(headline = headline, short_description = short_description)\n",
    "\n",
    "  url = \"http://127.0.0.1:8380/predict\"\n",
    "  req = urllib.request.Request(url)\n",
    "  req.add_header('Content-Type', 'application/json; charset=utf-8')\n",
    "\n",
    "  j_data = json.dumps(body)\n",
    "  j_data_bytes = j_data.encode('utf-8')\n",
    "  req.add_header('Content-Length', len(j_data_bytes))\n",
    "\n",
    "  response = urllib.request.urlopen(req, j_data_bytes)\n",
    "\n",
    "  result = json.loads(response.read())\n",
    "\n",
    "  return result"
   ]
  },
  {
   "cell_type": "code",
   "execution_count": 41,
   "id": "f236acd3",
   "metadata": {},
   "outputs": [
    {
     "data": {
      "text/plain": [
       "{'prediction': 'TRAVEL', 'success': True}"
      ]
     },
     "execution_count": 41,
     "metadata": {},
     "output_type": "execute_result"
    }
   ],
   "source": [
    "get_prediction((\"A Locals’ Guide to Tokyo: The Must-See Stops Most Tourists Miss\", \n",
    "                \"Side streets with old-world charm and new-chef restaurants. Evening cruises on the city’s maze of rivers. Insiders share their favorite places and pursuits.\"))"
   ]
  }
 ],
 "metadata": {
  "kernelspec": {
   "display_name": "Python 3 (ipykernel)",
   "language": "python",
   "name": "python3"
  },
  "language_info": {
   "codemirror_mode": {
    "name": "ipython",
    "version": 3
   },
   "file_extension": ".py",
   "mimetype": "text/x-python",
   "name": "python",
   "nbconvert_exporter": "python",
   "pygments_lexer": "ipython3",
   "version": "3.9.12"
  }
 },
 "nbformat": 4,
 "nbformat_minor": 5
}
