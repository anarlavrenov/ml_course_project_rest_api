{
  "nbformat": 4,
  "nbformat_minor": 0,
  "metadata": {
    "colab": {
      "provenance": [],
      "mount_file_id": "1iQzw_yu2eRQPblMuVd5qKVBhqbPmMP7I",
      "authorship_tag": "ABX9TyPMnbz0WCYvyVzm/HICIRhd",
      "include_colab_link": true
    },
    "kernelspec": {
      "name": "python3",
      "display_name": "Python 3"
    },
    "language_info": {
      "name": "python"
    }
  },
  "cells": [
    {
      "cell_type": "markdown",
      "metadata": {
        "id": "view-in-github",
        "colab_type": "text"
      },
      "source": [
        "<a href=\"https://colab.research.google.com/github/anarlavrenov/ml_course_project_rest_api/blob/master/ml_in_business_course_project.ipynb\" target=\"_parent\"><img src=\"https://colab.research.google.com/assets/colab-badge.svg\" alt=\"Open In Colab\"/></a>"
      ]
    },
    {
      "cell_type": "code",
      "execution_count": null,
      "metadata": {
        "id": "sbuQAeWIPatT"
      },
      "outputs": [],
      "source": [
        "# from google.colab import drive\n",
        "# drive.mount('/content/drive')\n",
        "\n",
        "import numpy as np\n",
        "import pandas as pd\n",
        "from matplotlib import pyplot as plt\n",
        "\n",
        "from sklearn.linear_model import LogisticRegression\n",
        "from sklearn.model_selection import train_test_split\n",
        "from sklearn.base import BaseEstimator, TransformerMixin\n",
        "from sklearn.pipeline import Pipeline, FeatureUnion\n",
        "from sklearn.feature_extraction.text import TfidfVectorizer\n",
        "from sklearn.metrics import classification_report\n",
        "\n",
        "# !pip install dill\n",
        "import dill\n",
        "import json\n",
        "import urllib.request"
      ]
    },
    {
      "cell_type": "code",
      "source": [
        "def target_multibinary_conversion(x):\n",
        "  if x == 'POLITICS':\n",
        "    return 1\n",
        "  elif x == 'WELLNESS':\n",
        "    return 2\n",
        "  elif x == 'ENTERTAINMENT':\n",
        "    return 3\n",
        "  elif x == 'TRAVEL':\n",
        "    return 4\n",
        "  elif x == 'STYLE & BEAUTY':\n",
        "    return 5\n",
        "  elif x == 'PARENTING':\n",
        "    return 6\n",
        "  elif x == 'FOOD & DRINK':\n",
        "    return 7\n",
        "  elif x == 'BUSINESS':\n",
        "    return 8\n",
        "\n",
        "\n",
        "def target_multibinary_inversion(x):\n",
        "  if x == 1:\n",
        "    return 'POLITICS'\n",
        "  elif x == 2:\n",
        "    return 'WELLNESS'\n",
        "  elif x == 3:\n",
        "    return 'ENTERTAINMENT'\n",
        "  elif x == 4:\n",
        "    return 'TRAVEL'\n",
        "  elif x == 5:\n",
        "    return 'STYLE & BEAUTY'\n",
        "  elif x == 6:\n",
        "    return 'PARENTING'\n",
        "  elif x == 7:\n",
        "    return 'FOOD & DRINK'\n",
        "  elif x == 8:\n",
        "    return 'BUSINESS'"
      ],
      "metadata": {
        "id": "P-OS4CGGtvQi"
      },
      "execution_count": 4,
      "outputs": []
    },
    {
      "cell_type": "code",
      "source": [
        "PATH = \"/content/drive/MyDrive/Colab Notebooks/машинное_обучение_в_бинесе/курсовой_проект/\""
      ],
      "metadata": {
        "id": "xeRxwfh7RgnL"
      },
      "execution_count": 5,
      "outputs": []
    },
    {
      "cell_type": "code",
      "source": [
        "df = pd.read_json(PATH + \"News_Category_Dataset_v3.json\", lines=True)"
      ],
      "metadata": {
        "id": "s_dJTFFEOIa-"
      },
      "execution_count": 6,
      "outputs": []
    },
    {
      "cell_type": "code",
      "source": [
        "# Оставляю только самые популярные категории \n",
        "top_categories = df.category.value_counts()[:10].drop(['HEALTHY LIVING']).index.tolist()\n",
        "top_categories.remove('QUEER VOICES')\n",
        "\n",
        "df['top_categories'] = 0\n",
        "df.top_categories = df.category.apply(lambda x: 1 if x in top_categories else 0)\n",
        "\n",
        "# Удаляю признаки link, authors\n",
        "df = df[df['top_categories'] == 1].drop(columns=['top_categories', 'link', 'authors'])\n",
        "\n",
        "# Переставляю местами колонки, чтобы было удобно воспринимать информацию\n",
        "df = df[['date', 'headline', 'short_description', 'category']]"
      ],
      "metadata": {
        "id": "bBxPFv5Waut9"
      },
      "execution_count": 7,
      "outputs": []
    },
    {
      "cell_type": "code",
      "source": [
        "TARGET = 'category'"
      ],
      "metadata": {
        "id": "Gi4E-n4rdP2Z"
      },
      "execution_count": 8,
      "outputs": []
    },
    {
      "cell_type": "code",
      "source": [
        "df.head(3)"
      ],
      "metadata": {
        "colab": {
          "base_uri": "https://localhost:8080/",
          "height": 143
        },
        "id": "nTN0RmgQd4hK",
        "outputId": "5949aaab-be74-433c-ee86-32025cc8b650"
      },
      "execution_count": 9,
      "outputs": [
        {
          "output_type": "execute_result",
          "data": {
            "text/plain": [
              "         date                                           headline  \\\n",
              "3  2022-09-23  The Funniest Tweets From Parents This Week (Se...   \n",
              "20 2022-09-20  Golden Globes Returning To NBC In January Afte...   \n",
              "21 2022-09-19  Biden Says U.S. Forces Would Defend Taiwan If ...   \n",
              "\n",
              "                                    short_description       category  \n",
              "3   \"Accidentally put grown-up toothpaste on my to...      PARENTING  \n",
              "20  For the past 18 months, Hollywood has effectiv...  ENTERTAINMENT  \n",
              "21  President issues vow as tensions with China rise.       POLITICS  "
            ],
            "text/html": [
              "\n",
              "  <div id=\"df-128e9cc2-bcaf-435f-91c5-5deccda32899\">\n",
              "    <div class=\"colab-df-container\">\n",
              "      <div>\n",
              "<style scoped>\n",
              "    .dataframe tbody tr th:only-of-type {\n",
              "        vertical-align: middle;\n",
              "    }\n",
              "\n",
              "    .dataframe tbody tr th {\n",
              "        vertical-align: top;\n",
              "    }\n",
              "\n",
              "    .dataframe thead th {\n",
              "        text-align: right;\n",
              "    }\n",
              "</style>\n",
              "<table border=\"1\" class=\"dataframe\">\n",
              "  <thead>\n",
              "    <tr style=\"text-align: right;\">\n",
              "      <th></th>\n",
              "      <th>date</th>\n",
              "      <th>headline</th>\n",
              "      <th>short_description</th>\n",
              "      <th>category</th>\n",
              "    </tr>\n",
              "  </thead>\n",
              "  <tbody>\n",
              "    <tr>\n",
              "      <th>3</th>\n",
              "      <td>2022-09-23</td>\n",
              "      <td>The Funniest Tweets From Parents This Week (Se...</td>\n",
              "      <td>\"Accidentally put grown-up toothpaste on my to...</td>\n",
              "      <td>PARENTING</td>\n",
              "    </tr>\n",
              "    <tr>\n",
              "      <th>20</th>\n",
              "      <td>2022-09-20</td>\n",
              "      <td>Golden Globes Returning To NBC In January Afte...</td>\n",
              "      <td>For the past 18 months, Hollywood has effectiv...</td>\n",
              "      <td>ENTERTAINMENT</td>\n",
              "    </tr>\n",
              "    <tr>\n",
              "      <th>21</th>\n",
              "      <td>2022-09-19</td>\n",
              "      <td>Biden Says U.S. Forces Would Defend Taiwan If ...</td>\n",
              "      <td>President issues vow as tensions with China rise.</td>\n",
              "      <td>POLITICS</td>\n",
              "    </tr>\n",
              "  </tbody>\n",
              "</table>\n",
              "</div>\n",
              "      <button class=\"colab-df-convert\" onclick=\"convertToInteractive('df-128e9cc2-bcaf-435f-91c5-5deccda32899')\"\n",
              "              title=\"Convert this dataframe to an interactive table.\"\n",
              "              style=\"display:none;\">\n",
              "        \n",
              "  <svg xmlns=\"http://www.w3.org/2000/svg\" height=\"24px\"viewBox=\"0 0 24 24\"\n",
              "       width=\"24px\">\n",
              "    <path d=\"M0 0h24v24H0V0z\" fill=\"none\"/>\n",
              "    <path d=\"M18.56 5.44l.94 2.06.94-2.06 2.06-.94-2.06-.94-.94-2.06-.94 2.06-2.06.94zm-11 1L8.5 8.5l.94-2.06 2.06-.94-2.06-.94L8.5 2.5l-.94 2.06-2.06.94zm10 10l.94 2.06.94-2.06 2.06-.94-2.06-.94-.94-2.06-.94 2.06-2.06.94z\"/><path d=\"M17.41 7.96l-1.37-1.37c-.4-.4-.92-.59-1.43-.59-.52 0-1.04.2-1.43.59L10.3 9.45l-7.72 7.72c-.78.78-.78 2.05 0 2.83L4 21.41c.39.39.9.59 1.41.59.51 0 1.02-.2 1.41-.59l7.78-7.78 2.81-2.81c.8-.78.8-2.07 0-2.86zM5.41 20L4 18.59l7.72-7.72 1.47 1.35L5.41 20z\"/>\n",
              "  </svg>\n",
              "      </button>\n",
              "      \n",
              "  <style>\n",
              "    .colab-df-container {\n",
              "      display:flex;\n",
              "      flex-wrap:wrap;\n",
              "      gap: 12px;\n",
              "    }\n",
              "\n",
              "    .colab-df-convert {\n",
              "      background-color: #E8F0FE;\n",
              "      border: none;\n",
              "      border-radius: 50%;\n",
              "      cursor: pointer;\n",
              "      display: none;\n",
              "      fill: #1967D2;\n",
              "      height: 32px;\n",
              "      padding: 0 0 0 0;\n",
              "      width: 32px;\n",
              "    }\n",
              "\n",
              "    .colab-df-convert:hover {\n",
              "      background-color: #E2EBFA;\n",
              "      box-shadow: 0px 1px 2px rgba(60, 64, 67, 0.3), 0px 1px 3px 1px rgba(60, 64, 67, 0.15);\n",
              "      fill: #174EA6;\n",
              "    }\n",
              "\n",
              "    [theme=dark] .colab-df-convert {\n",
              "      background-color: #3B4455;\n",
              "      fill: #D2E3FC;\n",
              "    }\n",
              "\n",
              "    [theme=dark] .colab-df-convert:hover {\n",
              "      background-color: #434B5C;\n",
              "      box-shadow: 0px 1px 3px 1px rgba(0, 0, 0, 0.15);\n",
              "      filter: drop-shadow(0px 1px 2px rgba(0, 0, 0, 0.3));\n",
              "      fill: #FFFFFF;\n",
              "    }\n",
              "  </style>\n",
              "\n",
              "      <script>\n",
              "        const buttonEl =\n",
              "          document.querySelector('#df-128e9cc2-bcaf-435f-91c5-5deccda32899 button.colab-df-convert');\n",
              "        buttonEl.style.display =\n",
              "          google.colab.kernel.accessAllowed ? 'block' : 'none';\n",
              "\n",
              "        async function convertToInteractive(key) {\n",
              "          const element = document.querySelector('#df-128e9cc2-bcaf-435f-91c5-5deccda32899');\n",
              "          const dataTable =\n",
              "            await google.colab.kernel.invokeFunction('convertToInteractive',\n",
              "                                                     [key], {});\n",
              "          if (!dataTable) return;\n",
              "\n",
              "          const docLinkHtml = 'Like what you see? Visit the ' +\n",
              "            '<a target=\"_blank\" href=https://colab.research.google.com/notebooks/data_table.ipynb>data table notebook</a>'\n",
              "            + ' to learn more about interactive tables.';\n",
              "          element.innerHTML = '';\n",
              "          dataTable['output_type'] = 'display_data';\n",
              "          await google.colab.output.renderOutput(dataTable, element);\n",
              "          const docLink = document.createElement('div');\n",
              "          docLink.innerHTML = docLinkHtml;\n",
              "          element.appendChild(docLink);\n",
              "        }\n",
              "      </script>\n",
              "    </div>\n",
              "  </div>\n",
              "  "
            ]
          },
          "metadata": {},
          "execution_count": 9
        }
      ]
    },
    {
      "cell_type": "code",
      "source": [
        "categories_names = df.category.value_counts().index.tolist()\n",
        "\n",
        "categories_count_before_2018 = df[df['date'] < '2018-01-01']['category'].value_counts().values.tolist()\n",
        "categories_perc_before_2018 = [x / sum(categories_count_before_2018) * 100 for x in categories_count_before_2018]\n",
        "\n",
        "# Визуализирую процентное распределение категорий до и после 2018 года\n",
        "categories_count_after_2018 = df[df['date'] > '2018-01-01']['category'].value_counts().values.tolist()\n",
        "categories_perc_after_2018 = [x / sum(categories_count_after_2018) * 100 for x in categories_count_after_2018]\n",
        "\n",
        "fig, ax = plt.subplots(1, 2, figsize=(20, 12))\n",
        "\n",
        "explode = (0, 0, 0.4, 0.4, 0.6, 0.6, 0.6, 0.6)\n",
        "\n",
        "ax[0].pie(categories_perc_before_2018, labels=categories_names, autopct='%1.1f%%')\n",
        "ax[0].set_title('Categories Distribution Before 2018 by percentage')\n",
        "\n",
        "ax[1].pie(categories_perc_after_2018, labels=categories_names, explode=explode, autopct='%1.1f%%')\n",
        "ax[1].set_title('Categories Distribution After 2018 by percentage')\n",
        "plt.show()"
      ],
      "metadata": {
        "colab": {
          "base_uri": "https://localhost:8080/",
          "height": 463
        },
        "id": "ncvhbvjdfQCk",
        "outputId": "570c6faf-9e6f-4b6f-cf1a-a052ab061983"
      },
      "execution_count": 10,
      "outputs": [
        {
          "output_type": "display_data",
          "data": {
            "text/plain": [
              "<Figure size 1440x864 with 2 Axes>"
            ],
            "image/png": "[encoded data removed]"
          },
          "metadata": {}
        }
      ]
    },
    {
      "cell_type": "code",
      "source": [
        "X = df.drop(columns=[TARGET, 'date'])\n",
        "y = df[TARGET]\n",
        "y = y.apply(target_multibinary_conversion)\n",
        "\n",
        "X_train, X_valid, y_train, y_valid = train_test_split(X, y, test_size=0.33, \n",
        "                                                      shuffle=True, random_state=42)\n",
        "\n",
        "# Создаю копию y_valid, чтобы потом сверить обратную конвертацию мультибинарного класса с численными значениями - в словесные  \n",
        "y_valid_ = y_valid.copy()"
      ],
      "metadata": {
        "id": "qR171jTZ07Kl"
      },
      "execution_count": 11,
      "outputs": []
    },
    {
      "cell_type": "code",
      "source": [
        "class FeatureSelection(BaseEstimator, TransformerMixin):\n",
        "  def __init__(self, column):\n",
        "    self.column = column\n",
        "\n",
        "  def fit(self, X, y=None):\n",
        "    return self\n",
        "  \n",
        "  def transform(self, X, y=None):\n",
        "    return X[self.column]\n",
        "\n",
        "\n",
        "headline = Pipeline([('column', FeatureSelection(column='headline')),\n",
        "                    ('tfidf', TfidfVectorizer())])\n",
        "\n",
        "descr = Pipeline([('column', FeatureSelection(column='short_description')),\n",
        "                    ('tfidf', TfidfVectorizer())])\n",
        "\n",
        "feats = FeatureUnion([('headline', headline),\n",
        "                      ('descr', descr)])\n",
        "\n",
        "pipeline = Pipeline([('feats', feats),\n",
        "                     ('clf', LogisticRegression(random_state=42))])"
      ],
      "metadata": {
        "id": "onPONUPymM_A"
      },
      "execution_count": 12,
      "outputs": []
    },
    {
      "cell_type": "code",
      "source": [
        "pipeline.fit(X_train, y_train)"
      ],
      "metadata": {
        "colab": {
          "base_uri": "https://localhost:8080/",
          "height": 356
        },
        "id": "1LQnjbX3naDn",
        "outputId": "905554a7-74af-44fa-d87b-dee93bf8d647"
      },
      "execution_count": 13,
      "outputs": [
        {
          "output_type": "stream",
          "name": "stderr",
          "text": [
            "/usr/local/lib/python3.8/dist-packages/sklearn/linear_model/_logistic.py:458: ConvergenceWarning: lbfgs failed to converge (status=1):\n",
            "STOP: TOTAL NO. of ITERATIONS REACHED LIMIT.\n",
            "\n",
            "Increase the number of iterations (max_iter) or scale the data as shown in:\n",
            "    https://scikit-learn.org/stable/modules/preprocessing.html\n",
            "Please also refer to the documentation for alternative solver options:\n",
            "    https://scikit-learn.org/stable/modules/linear_model.html#logistic-regression\n",
            "  n_iter_i = _check_optimize_result(\n"
          ]
        },
        {
          "output_type": "execute_result",
          "data": {
            "text/plain": [
              "Pipeline(steps=[('feats',\n",
              "                 FeatureUnion(transformer_list=[('headline',\n",
              "                                                 Pipeline(steps=[('column',\n",
              "                                                                  FeatureSelection(column='headline')),\n",
              "                                                                 ('tfidf',\n",
              "                                                                  TfidfVectorizer())])),\n",
              "                                                ('descr',\n",
              "                                                 Pipeline(steps=[('column',\n",
              "                                                                  FeatureSelection(column='short_description')),\n",
              "                                                                 ('tfidf',\n",
              "                                                                  TfidfVectorizer())]))])),\n",
              "                ('clf', LogisticRegression(random_state=42))])"
            ],
            "text/html": [
              "<style>#sk-container-id-1 {color: black;background-color: white;}#sk-container-id-1 pre{padding: 0;}#sk-container-id-1 div.sk-toggleable {background-color: white;}#sk-container-id-1 label.sk-toggleable__label {cursor: pointer;display: block;width: 100%;margin-bottom: 0;padding: 0.3em;box-sizing: border-box;text-align: center;}#sk-container-id-1 label.sk-toggleable__label-arrow:before {content: \"▸\";float: left;margin-right: 0.25em;color: #696969;}#sk-container-id-1 label.sk-toggleable__label-arrow:hover:before {color: black;}#sk-container-id-1 div.sk-estimator:hover label.sk-toggleable__label-arrow:before {color: black;}#sk-container-id-1 div.sk-toggleable__content {max-height: 0;max-width: 0;overflow: hidden;text-align: left;background-color: #f0f8ff;}#sk-container-id-1 div.sk-toggleable__content pre {margin: 0.2em;color: black;border-radius: 0.25em;background-color: #f0f8ff;}#sk-container-id-1 input.sk-toggleable__control:checked~div.sk-toggleable__content {max-height: 200px;max-width: 100%;overflow: auto;}#sk-container-id-1 input.sk-toggleable__control:checked~label.sk-toggleable__label-arrow:before {content: \"▾\";}#sk-container-id-1 div.sk-estimator input.sk-toggleable__control:checked~label.sk-toggleable__label {background-color: #d4ebff;}#sk-container-id-1 div.sk-label input.sk-toggleable__control:checked~label.sk-toggleable__label {background-color: #d4ebff;}#sk-container-id-1 input.sk-hidden--visually {border: 0;clip: rect(1px 1px 1px 1px);clip: rect(1px, 1px, 1px, 1px);height: 1px;margin: -1px;overflow: hidden;padding: 0;position: absolute;width: 1px;}#sk-container-id-1 div.sk-estimator {font-family: monospace;background-color: #f0f8ff;border: 1px dotted black;border-radius: 0.25em;box-sizing: border-box;margin-bottom: 0.5em;}#sk-container-id-1 div.sk-estimator:hover {background-color: #d4ebff;}#sk-container-id-1 div.sk-parallel-item::after {content: \"\";width: 100%;border-bottom: 1px solid gray;flex-grow: 1;}#sk-container-id-1 div.sk-label:hover label.sk-toggleable__label {background-color: #d4ebff;}#sk-container-id-1 div.sk-serial::before {content: \"\";position: absolute;border-left: 1px solid gray;box-sizing: border-box;top: 0;bottom: 0;left: 50%;z-index: 0;}#sk-container-id-1 div.sk-serial {display: flex;flex-direction: column;align-items: center;background-color: white;padding-right: 0.2em;padding-left: 0.2em;position: relative;}#sk-container-id-1 div.sk-item {position: relative;z-index: 1;}#sk-container-id-1 div.sk-parallel {display: flex;align-items: stretch;justify-content: center;background-color: white;position: relative;}#sk-container-id-1 div.sk-item::before, #sk-container-id-1 div.sk-parallel-item::before {content: \"\";position: absolute;border-left: 1px solid gray;box-sizing: border-box;top: 0;bottom: 0;left: 50%;z-index: -1;}#sk-container-id-1 div.sk-parallel-item {display: flex;flex-direction: column;z-index: 1;position: relative;background-color: white;}#sk-container-id-1 div.sk-parallel-item:first-child::after {align-self: flex-end;width: 50%;}#sk-container-id-1 div.sk-parallel-item:last-child::after {align-self: flex-start;width: 50%;}#sk-container-id-1 div.sk-parallel-item:only-child::after {width: 0;}#sk-container-id-1 div.sk-dashed-wrapped {border: 1px dashed gray;margin: 0 0.4em 0.5em 0.4em;box-sizing: border-box;padding-bottom: 0.4em;background-color: white;}#sk-container-id-1 div.sk-label label {font-family: monospace;font-weight: bold;display: inline-block;line-height: 1.2em;}#sk-container-id-1 div.sk-label-container {text-align: center;}#sk-container-id-1 div.sk-container {/* jupyter's `normalize.less` sets `[hidden] { display: none; }` but bootstrap.min.css set `[hidden] { display: none !important; }` so we also need the `!important` here to be able to override the default hidden behavior on the sphinx rendered scikit-learn.org. See: https://github.com/scikit-learn/scikit-learn/issues/21755 */display: inline-block !important;position: relative;}#sk-container-id-1 div.sk-text-repr-fallback {display: none;}</style><div id=\"sk-container-id-1\" class=\"sk-top-container\"><div class=\"sk-text-repr-fallback\"><pre>Pipeline(steps=[(&#x27;feats&#x27;,\n",
              "                 FeatureUnion(transformer_list=[(&#x27;headline&#x27;,\n",
              "                                                 Pipeline(steps=[(&#x27;column&#x27;,\n",
              "                                                                  FeatureSelection(column=&#x27;headline&#x27;)),\n",
              "                                                                 (&#x27;tfidf&#x27;,\n",
              "                                                                  TfidfVectorizer())])),\n",
              "                                                (&#x27;descr&#x27;,\n",
              "                                                 Pipeline(steps=[(&#x27;column&#x27;,\n",
              "                                                                  FeatureSelection(column=&#x27;short_description&#x27;)),\n",
              "                                                                 (&#x27;tfidf&#x27;,\n",
              "                                                                  TfidfVectorizer())]))])),\n",
              "                (&#x27;clf&#x27;, LogisticRegression(random_state=42))])</pre><b>In a Jupyter environment, please rerun this cell to show the HTML representation or trust the notebook. <br />On GitHub, the HTML representation is unable to render, please try loading this page with nbviewer.org.</b></div><div class=\"sk-container\" hidden><div class=\"sk-item sk-dashed-wrapped\"><div class=\"sk-label-container\"><div class=\"sk-label sk-toggleable\"><input class=\"sk-toggleable__control sk-hidden--visually\" id=\"sk-estimator-id-1\" type=\"checkbox\" ><label for=\"sk-estimator-id-1\" class=\"sk-toggleable__label sk-toggleable__label-arrow\">Pipeline</label><div class=\"sk-toggleable__content\"><pre>Pipeline(steps=[(&#x27;feats&#x27;,\n",
              "                 FeatureUnion(transformer_list=[(&#x27;headline&#x27;,\n",
              "                                                 Pipeline(steps=[(&#x27;column&#x27;,\n",
              "                                                                  FeatureSelection(column=&#x27;headline&#x27;)),\n",
              "                                                                 (&#x27;tfidf&#x27;,\n",
              "                                                                  TfidfVectorizer())])),\n",
              "                                                (&#x27;descr&#x27;,\n",
              "                                                 Pipeline(steps=[(&#x27;column&#x27;,\n",
              "                                                                  FeatureSelection(column=&#x27;short_description&#x27;)),\n",
              "                                                                 (&#x27;tfidf&#x27;,\n",
              "                                                                  TfidfVectorizer())]))])),\n",
              "                (&#x27;clf&#x27;, LogisticRegression(random_state=42))])</pre></div></div></div><div class=\"sk-serial\"><div class=\"sk-item sk-dashed-wrapped\"><div class=\"sk-label-container\"><div class=\"sk-label sk-toggleable\"><input class=\"sk-toggleable__control sk-hidden--visually\" id=\"sk-estimator-id-2\" type=\"checkbox\" ><label for=\"sk-estimator-id-2\" class=\"sk-toggleable__label sk-toggleable__label-arrow\">feats: FeatureUnion</label><div class=\"sk-toggleable__content\"><pre>FeatureUnion(transformer_list=[(&#x27;headline&#x27;,\n",
              "                                Pipeline(steps=[(&#x27;column&#x27;,\n",
              "                                                 FeatureSelection(column=&#x27;headline&#x27;)),\n",
              "                                                (&#x27;tfidf&#x27;, TfidfVectorizer())])),\n",
              "                               (&#x27;descr&#x27;,\n",
              "                                Pipeline(steps=[(&#x27;column&#x27;,\n",
              "                                                 FeatureSelection(column=&#x27;short_description&#x27;)),\n",
              "                                                (&#x27;tfidf&#x27;,\n",
              "                                                 TfidfVectorizer())]))])</pre></div></div></div><div class=\"sk-parallel\"><div class=\"sk-parallel-item\"><div class=\"sk-item\"><div class=\"sk-label-container\"><div class=\"sk-label sk-toggleable\"><label>headline</label></div></div><div class=\"sk-serial\"><div class=\"sk-item\"><div class=\"sk-serial\"><div class=\"sk-item\"><div class=\"sk-estimator sk-toggleable\"><input class=\"sk-toggleable__control sk-hidden--visually\" id=\"sk-estimator-id-3\" type=\"checkbox\" ><label for=\"sk-estimator-id-3\" class=\"sk-toggleable__label sk-toggleable__label-arrow\">FeatureSelection</label><div class=\"sk-toggleable__content\"><pre>FeatureSelection(column=&#x27;headline&#x27;)</pre></div></div></div><div class=\"sk-item\"><div class=\"sk-estimator sk-toggleable\"><input class=\"sk-toggleable__control sk-hidden--visually\" id=\"sk-estimator-id-4\" type=\"checkbox\" ><label for=\"sk-estimator-id-4\" class=\"sk-toggleable__label sk-toggleable__label-arrow\">TfidfVectorizer</label><div class=\"sk-toggleable__content\"><pre>TfidfVectorizer()</pre></div></div></div></div></div></div></div></div><div class=\"sk-parallel-item\"><div class=\"sk-item\"><div class=\"sk-label-container\"><div class=\"sk-label sk-toggleable\"><label>descr</label></div></div><div class=\"sk-serial\"><div class=\"sk-item\"><div class=\"sk-serial\"><div class=\"sk-item\"><div class=\"sk-estimator sk-toggleable\"><input class=\"sk-toggleable__control sk-hidden--visually\" id=\"sk-estimator-id-5\" type=\"checkbox\" ><label for=\"sk-estimator-id-5\" class=\"sk-toggleable__label sk-toggleable__label-arrow\">FeatureSelection</label><div class=\"sk-toggleable__content\"><pre>FeatureSelection(column=&#x27;short_description&#x27;)</pre></div></div></div><div class=\"sk-item\"><div class=\"sk-estimator sk-toggleable\"><input class=\"sk-toggleable__control sk-hidden--visually\" id=\"sk-estimator-id-6\" type=\"checkbox\" ><label for=\"sk-estimator-id-6\" class=\"sk-toggleable__label sk-toggleable__label-arrow\">TfidfVectorizer</label><div class=\"sk-toggleable__content\"><pre>TfidfVectorizer()</pre></div></div></div></div></div></div></div></div></div></div><div class=\"sk-item\"><div class=\"sk-estimator sk-toggleable\"><input class=\"sk-toggleable__control sk-hidden--visually\" id=\"sk-estimator-id-7\" type=\"checkbox\" ><label for=\"sk-estimator-id-7\" class=\"sk-toggleable__label sk-toggleable__label-arrow\">LogisticRegression</label><div class=\"sk-toggleable__content\"><pre>LogisticRegression(random_state=42)</pre></div></div></div></div></div></div></div>"
            ]
          },
          "metadata": {},
          "execution_count": 13
        }
      ]
    },
    {
      "cell_type": "code",
      "source": [
        "y_valid_pred = pipeline.predict(X_valid)"
      ],
      "metadata": {
        "id": "spigLVnLqg3q"
      },
      "execution_count": 14,
      "outputs": []
    },
    {
      "cell_type": "code",
      "source": [
        "print(classification_report(y_valid, y_valid_pred))"
      ],
      "metadata": {
        "colab": {
          "base_uri": "https://localhost:8080/"
        },
        "id": "IIeto4waMctt",
        "outputId": "4aeec7f1-5ab8-4f97-d508-5cdf71e6a2b3"
      },
      "execution_count": 15,
      "outputs": [
        {
          "output_type": "stream",
          "name": "stdout",
          "text": [
            "              precision    recall  f1-score   support\n",
            "\n",
            "           1       0.89      0.94      0.91     11735\n",
            "           2       0.79      0.88      0.83      5836\n",
            "           3       0.84      0.87      0.86      5793\n",
            "           4       0.86      0.82      0.84      3276\n",
            "           5       0.92      0.84      0.88      3267\n",
            "           6       0.82      0.75      0.78      2926\n",
            "           7       0.86      0.79      0.82      2057\n",
            "           8       0.75      0.51      0.60      1987\n",
            "\n",
            "    accuracy                           0.85     36877\n",
            "   macro avg       0.84      0.80      0.82     36877\n",
            "weighted avg       0.85      0.85      0.85     36877\n",
            "\n"
          ]
        }
      ]
    },
    {
      "cell_type": "code",
      "source": [
        "y_valid_ = y_valid_.apply(target_multibinary_inversion)\n",
        "y_valid_pred_ = pd.Series(y_valid_pred).apply(target_multibinary_inversion)"
      ],
      "metadata": {
        "id": "owzWaHr9PY5P"
      },
      "execution_count": 16,
      "outputs": []
    },
    {
      "cell_type": "code",
      "source": [
        "print(classification_report(y_valid_, y_valid_pred_))"
      ],
      "metadata": {
        "colab": {
          "base_uri": "https://localhost:8080/"
        },
        "id": "h-sAKzJDQIv3",
        "outputId": "6c9434af-5487-4979-c54f-01bd097480a8"
      },
      "execution_count": 17,
      "outputs": [
        {
          "output_type": "stream",
          "name": "stdout",
          "text": [
            "                precision    recall  f1-score   support\n",
            "\n",
            "      BUSINESS       0.75      0.51      0.60      1987\n",
            " ENTERTAINMENT       0.84      0.87      0.86      5793\n",
            "  FOOD & DRINK       0.86      0.79      0.82      2057\n",
            "     PARENTING       0.82      0.75      0.78      2926\n",
            "      POLITICS       0.89      0.94      0.91     11735\n",
            "STYLE & BEAUTY       0.92      0.84      0.88      3267\n",
            "        TRAVEL       0.86      0.82      0.84      3276\n",
            "      WELLNESS       0.79      0.88      0.83      5836\n",
            "\n",
            "      accuracy                           0.85     36877\n",
            "     macro avg       0.84      0.80      0.82     36877\n",
            "  weighted avg       0.85      0.85      0.85     36877\n",
            "\n"
          ]
        }
      ]
    },
    {
      "cell_type": "code",
      "source": [
        "# with open(PATH + \"logreg_pipeline.dill\", 'wb') as f:\n",
        "#   dill.dump(pipeline, f)"
      ],
      "metadata": {
        "id": "xk8NBDL4R7zD"
      },
      "execution_count": 18,
      "outputs": []
    },
    {
      "cell_type": "markdown",
      "source": [
        "REST API"
      ],
      "metadata": {
        "id": "-6bJgpZeQ6Ex"
      }
    },
    {
      "cell_type": "code",
      "source": [
        "def get_prediction(x):\n",
        "  headline, short_description = x\n",
        "\n",
        "  body = dict(headline = headline, short_description = short_description)\n",
        "\n",
        "  url = \"http://127.0.0.1:8380/predict\"\n",
        "  req = urllib.request.Request(url)\n",
        "  req.add_header('Content-Type', 'application/json; charset=utf-8')\n",
        "\n",
        "  j_data = json.dumps(body)\n",
        "  j_data_bytes = j_data.encode('utf-8')\n",
        "  req.add_header('Content-Length', len(j_data_bytes))\n",
        "\n",
        "  response = urllib.request.urlopen(req, j_data_bytes)\n",
        "\n",
        "  result = json.loads(response.read())\n",
        "\n",
        "  return result"
      ],
      "metadata": {
        "id": "ncCeHgfhQ8l3"
      },
      "execution_count": 26,
      "outputs": []
    }
  ]
}